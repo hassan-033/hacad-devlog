{
 "cells": [
  {
   "cell_type": "code",
   "execution_count": null,
   "id": "c2490d3e",
   "metadata": {},
   "outputs": [],
   "source": []
  },
  {
   "cell_type": "code",
   "execution_count": null,
   "id": "be2b03b8",
   "metadata": {
    "lines_to_next_cell": 2
   },
   "outputs": [],
   "source": [
    "\n",
    "\n",
    "import pandas as pd\n",
    "import matplotlib.pyplot as plt\n",
    "import plotly.express as px"
   ]
  },
  {
   "cell_type": "code",
   "execution_count": null,
   "id": "0c7a4f1e",
   "metadata": {
    "lines_to_next_cell": 2
   },
   "outputs": [],
   "source": [
    "\n",
    "\n",
    "df1 = pd.read_csv('data/brasil-real-estate-1.csv')\n",
    "df1"
   ]
  },
  {
   "cell_type": "code",
   "execution_count": null,
   "id": "793fdf3d",
   "metadata": {
    "lines_to_next_cell": 2
   },
   "outputs": [],
   "source": [
    "\n",
    "\n",
    "df1.dropna(inplace = True)\n",
    "df1.info()"
   ]
  },
  {
   "cell_type": "code",
   "execution_count": null,
   "id": "df17d396",
   "metadata": {
    "lines_to_next_cell": 2
   },
   "outputs": [],
   "source": [
    "\n",
    "\n",
    "df1.head()"
   ]
  },
  {
   "cell_type": "code",
   "execution_count": null,
   "id": "6a16624a",
   "metadata": {
    "lines_to_next_cell": 2
   },
   "outputs": [],
   "source": [
    "\n",
    "\n",
    "df1['price_usd'] = df1['price_usd'].str.replace('$', '', regex=False).str.replace(',', '').astype(float)\n",
    "df1.head()"
   ]
  },
  {
   "cell_type": "code",
   "execution_count": null,
   "id": "280e5847",
   "metadata": {
    "lines_to_next_cell": 2
   },
   "outputs": [],
   "source": [
    "\n",
    "\n",
    "df1[['lat', 'lon']] = df1['lat-lon'].str.split(',', expand=True)\n",
    "df1['state'] = df1['place_with_parent_names'].str.split('|', expand=True)[2]\n",
    "df1 = df1.drop('lat-lon', axis='columns')\n",
    "df1 = df1.drop('place_with_parent_names', axis='columns')\n",
    "df1.head()"
   ]
  },
  {
   "cell_type": "code",
   "execution_count": null,
   "id": "ed313110",
   "metadata": {
    "lines_to_next_cell": 2
   },
   "outputs": [],
   "source": [
    "\n",
    "\n",
    "df2 = pd.read_csv('data/brasil-real-estate-2.csv')\n",
    "df2.head(10)"
   ]
  },
  {
   "cell_type": "code",
   "execution_count": null,
   "id": "1f7a37ad",
   "metadata": {
    "lines_to_next_cell": 2
   },
   "outputs": [],
   "source": [
    "\n",
    "\n",
    "df2.dropna(inplace=True)\n",
    "df2.info()"
   ]
  },
  {
   "cell_type": "code",
   "execution_count": null,
   "id": "918bdb6a",
   "metadata": {
    "lines_to_next_cell": 2
   },
   "outputs": [],
   "source": [
    "\n",
    "\n",
    "df2['price_usd'] = df2['price_brl'] / 3.19\n",
    "df2 = df2.drop('price_brl', axis='columns')\n",
    "df2.info()"
   ]
  },
  {
   "cell_type": "code",
   "execution_count": null,
   "id": "aeed0d54",
   "metadata": {
    "lines_to_next_cell": 2
   },
   "outputs": [],
   "source": [
    "\n",
    "\n",
    "df1.info()"
   ]
  },
  {
   "cell_type": "code",
   "execution_count": null,
   "id": "866bd8d9",
   "metadata": {
    "lines_to_next_cell": 2
   },
   "outputs": [],
   "source": [
    "\n",
    "\n",
    "df = pd.concat([df1, df2])\n",
    "df.info()"
   ]
  },
  {
   "cell_type": "code",
   "execution_count": null,
   "id": "f53691ca",
   "metadata": {
    "lines_to_next_cell": 2
   },
   "outputs": [],
   "source": [
    "\n",
    "\n",
    "# df.to_csv('data/hassan_cleaned_data.csv', index=False)"
   ]
  },
  {
   "cell_type": "code",
   "execution_count": null,
   "id": "4427a8cb",
   "metadata": {
    "lines_to_next_cell": 2
   },
   "outputs": [],
   "source": [
    "\n",
    "\n",
    "import plotly.express as px\n",
    "fig = px.scatter_mapbox(\n",
    "    df,\n",
    "    lat='lat',\n",
    "    lon='lon',\n",
    "    center={'lat':19.43, 'lon': -99.13},\n",
    "    height=600,\n",
    "    width=600,\n",
    "    hover_data=['price_usd']\n",
    ")\n",
    "\n",
    "fig.update_layout(mapbox_style='open-street-map' )\n",
    "fig.show()"
   ]
  },
  {
   "cell_type": "code",
   "execution_count": null,
   "id": "e69ded53",
   "metadata": {
    "lines_to_next_cell": 2
   },
   "outputs": [],
   "source": [
    "\n",
    "\n",
    "df[['area_m2', 'price_usd']].describe()"
   ]
  },
  {
   "cell_type": "code",
   "execution_count": null,
   "id": "1fa1508a",
   "metadata": {
    "lines_to_next_cell": 2
   },
   "outputs": [],
   "source": [
    "\n",
    "\n",
    "import matplotlib.pyplot as plt\n",
    "plt.hist(df['area_m2'])\n",
    "plt.xlabel('Area [sq meters]')\n",
    "plt.ylabel('Frequency')\n",
    "plt.title('Distribution of Home Sizes');"
   ]
  },
  {
   "cell_type": "code",
   "execution_count": null,
   "id": "3012f5aa",
   "metadata": {
    "lines_to_next_cell": 2
   },
   "outputs": [],
   "source": [
    "\n",
    "\n",
    "mean_price_by_state = df.groupby('state')['price_usd'].mean().sort_values(ascending=False)\n",
    "mean_price_by_state.head()"
   ]
  },
  {
   "cell_type": "code",
   "execution_count": null,
   "id": "52a8d11c",
   "metadata": {
    "lines_to_next_cell": 2
   },
   "outputs": [],
   "source": [
    "\n",
    "\n",
    "mean_price_by_state.plot(\n",
    "    kind='bar',\n",
    "    xlabel= 'State',\n",
    "    ylabel='Price [USD]',\n",
    "    title='Mean House Price by State'\n",
    ");"
   ]
  },
  {
   "cell_type": "code",
   "execution_count": null,
   "id": "1d60c4df",
   "metadata": {
    "lines_to_next_cell": 2
   },
   "outputs": [],
   "source": [
    "\n",
    "\n",
    "df['price_per_m2'] = df['price_usd'] / df['area_m2']\n",
    "df.head()"
   ]
  },
  {
   "cell_type": "code",
   "execution_count": null,
   "id": "64a1483e",
   "metadata": {
    "lines_to_next_cell": 2
   },
   "outputs": [],
   "source": [
    "\n",
    "\n",
    "df.groupby('state')['price_per_m2'].mean().sort_values(ascending=False).plot(\n",
    "    kind='bar',\n",
    "    xlabel='State',\n",
    "    ylabel='Mean price per M^2',\n",
    "    title='Mean House Price per M^2 by State'\n",
    ");"
   ]
  },
  {
   "cell_type": "code",
   "execution_count": null,
   "id": "7f57d21b",
   "metadata": {
    "lines_to_next_cell": 2
   },
   "outputs": [],
   "source": [
    "\n",
    "\n",
    "plt.scatter(x=df['area_m2'], y=df['price_usd'])\n",
    "plt.xlabel('Area [sq meters]')\n",
    "plt.ylabel('Price [USD]')\n",
    "plt.title('Price vs. Area');"
   ]
  },
  {
   "cell_type": "code",
   "execution_count": null,
   "id": "b910d325",
   "metadata": {
    "lines_to_next_cell": 2
   },
   "outputs": [],
   "source": [
    "\n",
    "\n",
    "p_correlation = df['area_m2'].corr(df['price_usd'])\n",
    "print(\"Correlation of 'area_m2' and 'price_usd' (all Mexico):\", p_correlation)"
   ]
  },
  {
   "cell_type": "code",
   "execution_count": null,
   "id": "4e9d6cdb",
   "metadata": {
    "lines_to_next_cell": 2
   },
   "outputs": [],
   "source": [
    "\n",
    "\n",
    "df_distrito_federal = df[df['state'] == 'Distrito Federal']\n",
    "df_distrito_federal.head()"
   ]
  },
  {
   "cell_type": "code",
   "execution_count": null,
   "id": "b7336673",
   "metadata": {
    "lines_to_next_cell": 2
   },
   "outputs": [],
   "source": [
    "\n",
    "\n",
    "plt.scatter(x=df_distrito_federal['area_m2'], y=df_distrito_federal['price_usd'])\n",
    "plt.xlabel('Area [sq meters]')\n",
    "plt.ylabel('Price [USD]')\n",
    "plt.title('Distrito Federal: Price vs. Area');"
   ]
  },
  {
   "cell_type": "code",
   "execution_count": null,
   "id": "9d5f7e97",
   "metadata": {
    "lines_to_next_cell": 2
   },
   "outputs": [],
   "source": [
    "\n",
    "\n",
    "distrito_federal_correlation = df_distrito_federal['price_usd'].corr(df_distrito_federal['area_m2'])\n",
    "print(\"Correlation of 'area_m2' and 'price_usd' (Distrito Federal):\", distrito_federal_correlation)"
   ]
  },
  {
   "cell_type": "code",
   "execution_count": null,
   "id": "b11b685b",
   "metadata": {
    "lines_to_next_cell": 2
   },
   "outputs": [],
   "source": [
    "\n",
    "\n"
   ]
  }
 ],
 "metadata": {
  "jupytext": {
   "cell_metadata_filter": "-all",
   "encoding": "# coding: utf-8",
   "executable": "/usr/bin/env python",
   "main_language": "python",
   "notebook_metadata_filter": "-all"
  }
 },
 "nbformat": 4,
 "nbformat_minor": 5
}
